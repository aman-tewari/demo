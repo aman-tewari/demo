{
 "cells": [
  {
   "cell_type": "code",
   "execution_count": 3,
   "metadata": {
    "scrolled": true
   },
   "outputs": [
    {
     "data": {
      "text/plain": [
       "DataFrame[id: int, member_id: int, loan_amnt: double, funded_amnt: double, funded_amnt_inv: double, term: string, int_rate: double, installment: double, grade: string, sub_grade: string, emp_title: string, emp_length: string, home_ownership: string, annual_inc: string, verification_status: string, issue_d: string, loan_status: string, pymnt_plan: string, url: string, desc: string, purpose: string, title: string, zip_code: string, addr_state: string, dti: string, delinq_2yrs: string, earliest_cr_line: string, inq_last_6mths: string, mths_since_last_delinq: string, mths_since_last_record: string, open_acc: string, pub_rec: string, revol_bal: string, revol_util: string, total_acc: string, initial_list_status: string, out_prncp: string, out_prncp_inv: string, total_pymnt: string, total_pymnt_inv: string, total_rec_prncp: string, total_rec_int: string, total_rec_late_fee: string, recoveries: string, collection_recovery_fee: string, last_pymnt_d: string, last_pymnt_amnt: string, next_pymnt_d: string, last_credit_pull_d: string, collections_12_mths_ex_med: string, mths_since_last_major_derog: string, policy_code: string, application_type: string, annual_inc_joint: string, dti_joint: string, verification_status_joint: string, acc_now_delinq: string, tot_coll_amt: string, tot_cur_bal: string, open_acc_6m: string, open_il_6m: string, open_il_12m: string, open_il_24m: string, mths_since_rcnt_il: string, total_bal_il: string, il_util: string, open_rv_12m: string, open_rv_24m: string, max_bal_bc: string, all_util: string, total_rev_hi_lim: string, inq_fi: string, total_cu_tl: string, inq_last_12m: string]"
      ]
     },
     "metadata": {},
     "output_type": "display_data"
    }
   ],
   "source": [
    "#File location and type\n",
    "file_location =  '/home/koushik/Documents/loan.csv'\n",
    "file_type = 'csv'\n",
    "\n",
    "#CSV Options\n",
    "infer_schema = 'true'\n",
    "first_row_is_header = 'true'\n",
    "delimiter = ','\n",
    "\n",
    "df = spark.read.format(file_type) \\\n",
    "    .option(\"inferSchema\", infer_schema) \\\n",
    "    .option(\"header\", first_row_is_header) \\\n",
    "    .option(\"sep\", delimiter) \\\n",
    "    .load(file_location)\n",
    "\n",
    "display(df)"
   ]
  },
  {
   "cell_type": "code",
   "execution_count": 10,
   "metadata": {},
   "outputs": [
    {
     "data": {
      "text/plain": [
       "887379"
      ]
     },
     "execution_count": 10,
     "metadata": {},
     "output_type": "execute_result"
    }
   ],
   "source": [
    "df.count()"
   ]
  },
  {
   "cell_type": "code",
   "execution_count": 11,
   "metadata": {},
   "outputs": [
    {
     "name": "stdout",
     "output_type": "stream",
     "text": [
      "root\n",
      " |-- id: integer (nullable = true)\n",
      " |-- member_id: integer (nullable = true)\n",
      " |-- loan_amnt: double (nullable = true)\n",
      " |-- funded_amnt: double (nullable = true)\n",
      " |-- funded_amnt_inv: double (nullable = true)\n",
      " |-- term: string (nullable = true)\n",
      " |-- int_rate: double (nullable = true)\n",
      " |-- installment: double (nullable = true)\n",
      " |-- grade: string (nullable = true)\n",
      " |-- sub_grade: string (nullable = true)\n",
      " |-- emp_title: string (nullable = true)\n",
      " |-- emp_length: string (nullable = true)\n",
      " |-- home_ownership: string (nullable = true)\n",
      " |-- annual_inc: string (nullable = true)\n",
      " |-- verification_status: string (nullable = true)\n",
      " |-- issue_d: string (nullable = true)\n",
      " |-- loan_status: string (nullable = true)\n",
      " |-- pymnt_plan: string (nullable = true)\n",
      " |-- url: string (nullable = true)\n",
      " |-- desc: string (nullable = true)\n",
      " |-- purpose: string (nullable = true)\n",
      " |-- title: string (nullable = true)\n",
      " |-- zip_code: string (nullable = true)\n",
      " |-- addr_state: string (nullable = true)\n",
      " |-- dti: string (nullable = true)\n",
      " |-- delinq_2yrs: string (nullable = true)\n",
      " |-- earliest_cr_line: string (nullable = true)\n",
      " |-- inq_last_6mths: string (nullable = true)\n",
      " |-- mths_since_last_delinq: string (nullable = true)\n",
      " |-- mths_since_last_record: string (nullable = true)\n",
      " |-- open_acc: string (nullable = true)\n",
      " |-- pub_rec: string (nullable = true)\n",
      " |-- revol_bal: string (nullable = true)\n",
      " |-- revol_util: string (nullable = true)\n",
      " |-- total_acc: string (nullable = true)\n",
      " |-- initial_list_status: string (nullable = true)\n",
      " |-- out_prncp: string (nullable = true)\n",
      " |-- out_prncp_inv: string (nullable = true)\n",
      " |-- total_pymnt: string (nullable = true)\n",
      " |-- total_pymnt_inv: string (nullable = true)\n",
      " |-- total_rec_prncp: string (nullable = true)\n",
      " |-- total_rec_int: string (nullable = true)\n",
      " |-- total_rec_late_fee: string (nullable = true)\n",
      " |-- recoveries: string (nullable = true)\n",
      " |-- collection_recovery_fee: string (nullable = true)\n",
      " |-- last_pymnt_d: string (nullable = true)\n",
      " |-- last_pymnt_amnt: string (nullable = true)\n",
      " |-- next_pymnt_d: string (nullable = true)\n",
      " |-- last_credit_pull_d: string (nullable = true)\n",
      " |-- collections_12_mths_ex_med: string (nullable = true)\n",
      " |-- mths_since_last_major_derog: string (nullable = true)\n",
      " |-- policy_code: string (nullable = true)\n",
      " |-- application_type: string (nullable = true)\n",
      " |-- annual_inc_joint: string (nullable = true)\n",
      " |-- dti_joint: string (nullable = true)\n",
      " |-- verification_status_joint: string (nullable = true)\n",
      " |-- acc_now_delinq: string (nullable = true)\n",
      " |-- tot_coll_amt: string (nullable = true)\n",
      " |-- tot_cur_bal: string (nullable = true)\n",
      " |-- open_acc_6m: string (nullable = true)\n",
      " |-- open_il_6m: string (nullable = true)\n",
      " |-- open_il_12m: string (nullable = true)\n",
      " |-- open_il_24m: string (nullable = true)\n",
      " |-- mths_since_rcnt_il: string (nullable = true)\n",
      " |-- total_bal_il: string (nullable = true)\n",
      " |-- il_util: string (nullable = true)\n",
      " |-- open_rv_12m: string (nullable = true)\n",
      " |-- open_rv_24m: string (nullable = true)\n",
      " |-- max_bal_bc: string (nullable = true)\n",
      " |-- all_util: string (nullable = true)\n",
      " |-- total_rev_hi_lim: string (nullable = true)\n",
      " |-- inq_fi: string (nullable = true)\n",
      " |-- total_cu_tl: string (nullable = true)\n",
      " |-- inq_last_12m: string (nullable = true)\n",
      "\n"
     ]
    }
   ],
   "source": [
    "df.printSchema()"
   ]
  },
  {
   "cell_type": "code",
   "execution_count": 12,
   "metadata": {},
   "outputs": [],
   "source": [
    "temp_table_name = 'loanstats'\n",
    "\n",
    "df.createOrReplaceTempView(temp_table_name)"
   ]
  },
  {
   "cell_type": "code",
   "execution_count": 14,
   "metadata": {},
   "outputs": [
    {
     "name": "stdout",
     "output_type": "stream",
     "text": [
      "+-------+--------------------+--------------------+-----------------+------------------+-----------------+----------+-----------------+------------------+------+---------+--------------------+----------+--------------+------------------+-------------------+---------------+-----------+----------+--------------------+--------------------+--------------------+--------------------+--------------------+--------------------+------------------+-------------------+------------------+------------------+----------------------+----------------------+------------------+--------------------+--------------------+--------------------+--------------------+--------------------+-----------------+--------------------+-----------------+--------------------+--------------------+--------------------+--------------------+--------------------+-----------------------+------------------+-----------------+------------------+------------------+--------------------------+---------------------------+------------------+-----------------+-----------------+------------------+-------------------------+------------------+------------------+------------------+------------------+------------------+------------------+-----------------+------------------+-----------------+------------------+------------------+------------------+-----------------+-----------------+-----------------+------------------+------------------+------------------+\n",
      "|summary|                  id|           member_id|        loan_amnt|       funded_amnt|  funded_amnt_inv|      term|         int_rate|       installment| grade|sub_grade|           emp_title|emp_length|home_ownership|        annual_inc|verification_status|        issue_d|loan_status|pymnt_plan|                 url|                desc|             purpose|               title|            zip_code|          addr_state|               dti|        delinq_2yrs|  earliest_cr_line|    inq_last_6mths|mths_since_last_delinq|mths_since_last_record|          open_acc|             pub_rec|           revol_bal|          revol_util|           total_acc| initial_list_status|        out_prncp|       out_prncp_inv|      total_pymnt|     total_pymnt_inv|     total_rec_prncp|       total_rec_int|  total_rec_late_fee|          recoveries|collection_recovery_fee|      last_pymnt_d|  last_pymnt_amnt|      next_pymnt_d|last_credit_pull_d|collections_12_mths_ex_med|mths_since_last_major_derog|       policy_code| application_type| annual_inc_joint|         dti_joint|verification_status_joint|    acc_now_delinq|      tot_coll_amt|       tot_cur_bal|       open_acc_6m|        open_il_6m|       open_il_12m|      open_il_24m|mths_since_rcnt_il|     total_bal_il|           il_util|       open_rv_12m|       open_rv_24m|       max_bal_bc|         all_util| total_rev_hi_lim|            inq_fi|       total_cu_tl|      inq_last_12m|\n",
      "+-------+--------------------+--------------------+-----------------+------------------+-----------------+----------+-----------------+------------------+------+---------+--------------------+----------+--------------+------------------+-------------------+---------------+-----------+----------+--------------------+--------------------+--------------------+--------------------+--------------------+--------------------+------------------+-------------------+------------------+------------------+----------------------+----------------------+------------------+--------------------+--------------------+--------------------+--------------------+--------------------+-----------------+--------------------+-----------------+--------------------+--------------------+--------------------+--------------------+--------------------+-----------------------+------------------+-----------------+------------------+------------------+--------------------------+---------------------------+------------------+-----------------+-----------------+------------------+-------------------------+------------------+------------------+------------------+------------------+------------------+------------------+-----------------+------------------+-----------------+------------------+------------------+------------------+-----------------+-----------------+-----------------+------------------+------------------+------------------+\n",
      "|  count|              887379|              887379|           887379|            887379|           887379|    887379|           887379|            887379|887379|   887379|              835922|    887379|        887379|            887375|             887379|         887379|     887379|    887379|              887379|              126030|              887378|              887227|              887378|              887378|            887378|             887349|            887349|            887349|                433227|                137243|            887269|              887288|              887326|              886845|              887329|              887362|           887362|              887358|           887366|              887368|              887370|              887376|              887376|              887377|                 887373|            869713|           887376|            634628|            887274|                    887191|                     221925|            887300|           887318|              718|               675|                      635|            887189|            817234|            817203|             21466|             21441|             21422|            21411|             20839|            21401|             18641|             21387|             21391|            21386|            21379|           817106|             21379|             21382|             21374|\n",
      "|   mean| 3.246513305502384E7| 3.500182481556246E7|14755.26460508982|14741.877625005776|14702.46438322972|      null|13.24673967944968|436.71712736049295|  null|     null|1.2810941556818182E7|      null|          null|  75027.6294879158|            38000.0|           null|       null|      null|                null|                null|               384.0|            Infinity|                 0.0|                 0.0|18.158655847435277|0.31530134633073026|24.657378640776695|0.6958894136477378|     34.05607779889215|     70.07668159178583|11.548873794921679|  0.1971674009853283|  16918.233045493223|  56.393959880558796|   26.01553412578286|  2425.3503809523804| 8404.29778399635|   8400.914972280658|7556.046213696373|   7519.398048255562|   5756.525630092604|   1756.269630679694|  1.9437260192406038|  47.133825938983385|       5.60823615922636|2018.1547505905007|2164.112625008407| 2651.400176414654| 3248.684128425103|       0.39657119638783506|          45.57290839983134|1.1984275928916865|636.1521224303472|89301.29542579268|234.13146381578946|       2342.0643076923075|0.1051574410319087| 225.7438645430027|139444.12646439945|12.020092786869958| 3.318304705003734|1.3048979210464844|2.338802859679454| 21.75514498319731|36519.12193249813| 71.49498712308169|1.4368370353051203| 2.973582215157324|5886.608841745801|60.81994948077446|32068.56672590025|1.4877151946107785|1.5364826941066416|1.9772142422682824|\n",
      "| stddev|2.2827341721266054E7|2.4113354675556634E7| 8435.45560127837| 8429.897656714635|8442.106731567968|      null|4.381867414712425| 244.1865934763971|  null|     null|  8.34575692812245E7|      null|          null|64698.324656872595|                NaN|           null|       null|      null|                null|                null|   543.0580079512685|                 NaN|                 NaN|                 NaN|17.192408374925296| 0.8702762972297754|197.67945675130858|1.3194574773413688|    21.888248144474463|    28.163384244208697| 5.321246343021922|  0.6473954736629438|   22426.16690932601|  294.04499175537825|  165.31718102954812|   7049.439549510697|8493.570205378826|   8490.797354321374|7870.906637005672|   7846.092476048638|   6625.584317069109|   2106.746552508435|   157.5250675421904|   431.8747697229788|     120.25990033897398| 4936.449459162748| 4795.11955582552|5252.0273815950195| 6089.937019101821|         73.85670638797478|         212.96534755625933| 49.45516167546009|2758.773918346222|63989.20843652567| 1510.092495010154|        4686.844085412102| 30.77386008885702|10310.761255278067|153748.63990955838|1508.2823838422576|54.799424244274114| 47.88549595104136|54.24999675590209| 88.69971878144293| 43097.7735464567|23.508271221548295| 4.377396996383602|2.6318421664687643|5284.843308164391|20.02927993840009|37498.26203892379| 78.66798944294068| 2.722991859541857| 2.874031205209649|\n",
      "|    min|               54734|               70473|            500.0|             500.0|              0.0| 36 months|             5.32|             15.67|     A|       A1| \tAdv Mtr Proj Fl...| reactors\"|       2 years|               0.0|            38000.0|       Apr-2008|Charged Off|   Current|https://www.lendi...|\t Loan for purcha...|      After gradu...|        \tcredit_card| \"\"set it and for...| American women u...|       Karen     \"|           BEST BUY|           Mike  \"|               809|   Capital One ($27...|    I am currently ...|           Carlos\"| I plan on elimin...| I'm sure)!!  Ple...| #450216.<br/> 55...| and the work we ...| I am working on ...|    I mean.<br/>\"| and I pay her tu...|     and opinions| extremely rare t...| I need to hit th...| I have listed on...| and continue to ...| as well as a sig...|    and I’ve never m...|               0.0|              0.0|               0.0|               0.0|                       0.0|                        0.0|               0.0|              0.0|              0.0|               0.0|                      0.0|               0.0|               0.0|               0.0|               0.0|               0.0|               0.0|              0.0|               0.0|              0.0|               0.0|               0.0|               0.0|              0.0|              0.0|              0.0|               0.0|               0.0|              -4.0|\n",
      "|    max|            68617057|            73544841|          35000.0|           35000.0|          35000.0| 60 months|            28.99|           1445.46|     G|       G5|​License Complian...|       n/a|          RENT|          MORTGAGE|           Verified|Source Verified|   Oct-2015|         y|                   n|~20K total in med...|             wedding|îîMY FIRST CA...|      small_business|             wedding|           wedding|     small_business|    small_business|    small_business|               wedding|        small_business|  home_improvement|    home_improvement|  debt_consolidation|              moving|      small_business|                   w|   small_business|               other|                f|savy debt consoli...|                   f|                   f|                   f|      small_business|   xperienceddebtorq...|                 f|                f|                 f|                 f|                         f|                          f|                 f|                f|                f|                 f|                        f|          Oct-2012|          Mar-2011|                 f|          Jun-2015|                 f|          Oct-2011|         Sep-2010|          Mar-2011|         Mar-2012|          Sep-2010|          Mar-2014|          Jan-2016|         Nov-2012|       INDIVIDUAL|       INDIVIDUAL|          Mar-2013|        INDIVIDUAL|          Aug-2009|\n",
      "+-------+--------------------+--------------------+-----------------+------------------+-----------------+----------+-----------------+------------------+------+---------+--------------------+----------+--------------+------------------+-------------------+---------------+-----------+----------+--------------------+--------------------+--------------------+--------------------+--------------------+--------------------+------------------+-------------------+------------------+------------------+----------------------+----------------------+------------------+--------------------+--------------------+--------------------+--------------------+--------------------+-----------------+--------------------+-----------------+--------------------+--------------------+--------------------+--------------------+--------------------+-----------------------+------------------+-----------------+------------------+------------------+--------------------------+---------------------------+------------------+-----------------+-----------------+------------------+-------------------------+------------------+------------------+------------------+------------------+------------------+------------------+-----------------+------------------+-----------------+------------------+------------------+------------------+-----------------+-----------------+-----------------+------------------+------------------+------------------+\n",
      "\n"
     ]
    }
   ],
   "source": [
    "df.describe().show()"
   ]
  },
  {
   "cell_type": "code",
   "execution_count": 206,
   "metadata": {},
   "outputs": [],
   "source": [
    "df_sel = df.select(\"term\",\"home_ownership\",\"grade\",\"purpose\",\"int_rate\", \"addr_state\", \"loan_status\", \n",
    "                   \"application_type\",\"loan_amnt\",\"emp_length\", \"annual_inc\", \"dti\",\"delinq_2yrs\",\"revol_util\", \n",
    "                   \"total_acc\", \"dti_joint\")"
   ]
  },
  {
   "cell_type": "code",
   "execution_count": 207,
   "metadata": {},
   "outputs": [
    {
     "name": "stdout",
     "output_type": "stream",
     "text": [
      "+-------+----------+--------------+------+--------------------+-----------------+--------------------+-----------+-----------------+-----------------+----------+------------------+------------------+-------------------+--------------------+--------------------+------------------+\n",
      "|summary|      term|home_ownership| grade|             purpose|         int_rate|          addr_state|loan_status| application_type|        loan_amnt|emp_length|        annual_inc|               dti|        delinq_2yrs|          revol_util|           total_acc|         dti_joint|\n",
      "+-------+----------+--------------+------+--------------------+-----------------+--------------------+-----------+-----------------+-----------------+----------+------------------+------------------+-------------------+--------------------+--------------------+------------------+\n",
      "|  count|    887379|        887379|887379|              887378|           887379|              887378|     887379|           887318|           887379|    887379|            887375|            887378|             887349|              886845|              887329|               675|\n",
      "|   mean|      null|          null|  null|               384.0|13.24673967944968|                 0.0|       null|636.1521224303472|14755.26460508982|      null|  75027.6294879158|18.158655847435277|0.31530134633073026|  56.393959880558796|   26.01553412578286|234.13146381578946|\n",
      "| stddev|      null|          null|  null|   543.0580079512685|4.381867414712425|                 NaN|       null|2758.773918346222| 8435.45560127837|      null|64698.324656872595|17.192408374925296| 0.8702762972297754|  294.04499175537825|  165.31718102954812| 1510.092495010154|\n",
      "|    min| 36 months|       2 years|     A|      After gradu...|             5.32| American women u...|Charged Off|              0.0|            500.0| reactors\"|               0.0|       Karen     \"|           BEST BUY| #450216.<br/> 55...| and the work we ...|               0.0|\n",
      "|    max| 60 months|          RENT|     G|             wedding|            28.99|             wedding|   Oct-2015|                f|          35000.0|       n/a|          MORTGAGE|           wedding|     small_business|              moving|      small_business|                 f|\n",
      "+-------+----------+--------------+------+--------------------+-----------------+--------------------+-----------+-----------------+-----------------+----------+------------------+------------------+-------------------+--------------------+--------------------+------------------+\n",
      "\n"
     ]
    }
   ],
   "source": [
    "df_sel.describe().show()"
   ]
  },
  {
   "cell_type": "code",
   "execution_count": 208,
   "metadata": {},
   "outputs": [
    {
     "data": {
      "text/plain": [
       "DataFrame[term: string, home_ownership: string, grade: string, purpose: string, int_rate: double, addr_state: string, loan_status: string, application_type: string, loan_amnt: double, emp_length: string, annual_inc: string, dti: string, delinq_2yrs: string, revol_util: string, total_acc: string, dti_joint: string]"
      ]
     },
     "execution_count": 208,
     "metadata": {},
     "output_type": "execute_result"
    }
   ],
   "source": [
    "df_sel.cache()"
   ]
  },
  {
   "cell_type": "code",
   "execution_count": 44,
   "metadata": {},
   "outputs": [
    {
     "name": "stdout",
     "output_type": "stream",
     "text": [
      "+-------+-----------------+----------+------------------+-------------------+--------------------+--------------------+\n",
      "|summary|        loan_amnt|emp_length|               dti|        delinq_2yrs|          revol_util|           total_acc|\n",
      "+-------+-----------------+----------+------------------+-------------------+--------------------+--------------------+\n",
      "|  count|           887379|    887379|            887378|             887349|              886845|              887329|\n",
      "|   mean|14755.26460508982|      null|18.158655847435277|0.31530134633073026|  56.393959880558796|   26.01553412578286|\n",
      "| stddev| 8435.45560127837|      null|17.192408374925296| 0.8702762972297754|  294.04499175537825|  165.31718102954812|\n",
      "|    min|            500.0| reactors\"|       Karen     \"|           BEST BUY| #450216.<br/> 55...| and the work we ...|\n",
      "|    max|          35000.0|       n/a|           wedding|     small_business|              moving|      small_business|\n",
      "+-------+-----------------+----------+------------------+-------------------+--------------------+--------------------+\n",
      "\n"
     ]
    }
   ],
   "source": [
    "df_sel.describe(\"loan_amnt\",\"emp_length\", \"dti\",\"delinq_2yrs\",\"revol_util\", \"total_acc\").show()"
   ]
  },
  {
   "cell_type": "code",
   "execution_count": 209,
   "metadata": {},
   "outputs": [
    {
     "name": "stdout",
     "output_type": "stream",
     "text": [
      "+----------+\n",
      "|emp_length|\n",
      "+----------+\n",
      "|   9 years|\n",
      "|   5 years|\n",
      "| reactors\"|\n",
      "|    1 year|\n",
      "|       n/a|\n",
      "|   2 years|\n",
      "|   7 years|\n",
      "|   8 years|\n",
      "|   4 years|\n",
      "|   6 years|\n",
      "|   3 years|\n",
      "| 10+ years|\n",
      "|  < 1 year|\n",
      "+----------+\n",
      "\n"
     ]
    }
   ],
   "source": [
    "sql_df = spark.sql(\"SELECT distinct emp_length from loanstats limit 50\")\n",
    "\n",
    "sql_df.show()"
   ]
  },
  {
   "cell_type": "code",
   "execution_count": 210,
   "metadata": {},
   "outputs": [],
   "source": [
    "from pyspark.sql.functions import regexp_replace, regexp_extract\n",
    "from pyspark.sql.functions import col"
   ]
  },
  {
   "cell_type": "code",
   "execution_count": 47,
   "metadata": {},
   "outputs": [
    {
     "name": "stdout",
     "output_type": "stream",
     "text": [
      "+-----------------+----------+\n",
      "|emplength_cleaned|emp_length|\n",
      "+-----------------+----------+\n",
      "|              10 | 10+ years|\n",
      "|               1 |  < 1 year|\n",
      "|              10 | 10+ years|\n",
      "|              10 | 10+ years|\n",
      "|               1 |    1 year|\n",
      "|               3 |   3 years|\n",
      "|               8 |   8 years|\n",
      "|               9 |   9 years|\n",
      "|               4 |   4 years|\n",
      "|               1 |  < 1 year|\n",
      "+-----------------+----------+\n",
      "only showing top 10 rows\n",
      "\n"
     ]
    }
   ],
   "source": [
    "#Method 1 to remove characters from emp_length\n",
    "\n",
    "regex_string = \"reactors\\\"|years|year|\\\\+|\\\\<\"\n",
    "\n",
    "df_sel.select(regexp_replace(col('emp_length'), regex_string, \"\").alias(\"emplength_cleaned\")\n",
    "              ,col(\"emp_length\")).show(10)"
   ]
  },
  {
   "cell_type": "code",
   "execution_count": 48,
   "metadata": {},
   "outputs": [
    {
     "name": "stdout",
     "output_type": "stream",
     "text": [
      "+-----------------+----------+\n",
      "|emplength_cleaned|emp_length|\n",
      "+-----------------+----------+\n",
      "|               10| 10+ years|\n",
      "|                1|  < 1 year|\n",
      "|               10| 10+ years|\n",
      "|               10| 10+ years|\n",
      "|                1|    1 year|\n",
      "|                3|   3 years|\n",
      "|                8|   8 years|\n",
      "|                9|   9 years|\n",
      "|                4|   4 years|\n",
      "|                1|  < 1 year|\n",
      "+-----------------+----------+\n",
      "only showing top 10 rows\n",
      "\n"
     ]
    }
   ],
   "source": [
    "#Method 2 to remove characters from emp_length\n",
    "\n",
    "regex_string = \"\\\\d+\"                    #To extract all the digits out\n",
    "\n",
    "df_sel.select(regexp_extract(col(\"emp_length\"), regex_string, 0).alias(\"emplength_cleaned\")\n",
    "              ,col(\"emp_length\")).show(10)"
   ]
  },
  {
   "cell_type": "code",
   "execution_count": 62,
   "metadata": {},
   "outputs": [
    {
     "name": "stdout",
     "output_type": "stream",
     "text": [
      "+----------+--------------+-----+-----------+--------+----------+-----------+----------------+---------+----------+----------+-----+-----------+----------+---------+---------+\n",
      "|      term|home_ownership|grade|    purpose|int_rate|addr_state|loan_status|application_type|loan_amnt|emp_length|annual_inc|  dti|delinq_2yrs|revol_util|total_acc|dti_joint|\n",
      "+----------+--------------+-----+-----------+--------+----------+-----------+----------------+---------+----------+----------+-----+-----------+----------+---------+---------+\n",
      "| 36 months|          RENT|    B|credit_card|   10.65|        AZ| Fully Paid|      INDIVIDUAL|   5000.0| 10+ years|   24000.0|27.65|        0.0|      83.7|      9.0|     null|\n",
      "| 60 months|          RENT|    C|        car|   15.27|        GA|Charged Off|      INDIVIDUAL|   2500.0|  < 1 year|   30000.0|  1.0|        0.0|       9.4|      4.0|     null|\n",
      "+----------+--------------+-----+-----------+--------+----------+-----------+----------------+---------+----------+----------+-----+-----------+----------+---------+---------+\n",
      "only showing top 2 rows\n",
      "\n"
     ]
    }
   ],
   "source": [
    "df_sel.show(2)"
   ]
  },
  {
   "cell_type": "code",
   "execution_count": 237,
   "metadata": {},
   "outputs": [
    {
     "name": "stdout",
     "output_type": "stream",
     "text": [
      "+------------+----------+--------------+----------+\n",
      "|term_cleaned|      term|emplen_cleaned|emp_length|\n",
      "+------------+----------+--------------+----------+\n",
      "|         36 | 36 months|            10| 10+ years|\n",
      "|         60 | 60 months|             1|  < 1 year|\n",
      "|         36 | 36 months|            10| 10+ years|\n",
      "|         36 | 36 months|            10| 10+ years|\n",
      "|         60 | 60 months|             1|    1 year|\n",
      "|         36 | 36 months|             3|   3 years|\n",
      "|         60 | 60 months|             8|   8 years|\n",
      "|         36 | 36 months|             9|   9 years|\n",
      "|         60 | 60 months|             4|   4 years|\n",
      "|         60 | 60 months|             1|  < 1 year|\n",
      "|         60 | 60 months|             5|   5 years|\n",
      "|         36 | 36 months|            10| 10+ years|\n",
      "|         36 | 36 months|             1|  < 1 year|\n",
      "|         36 | 36 months|             3|   3 years|\n",
      "|         36 | 36 months|             3|   3 years|\n",
      "+------------+----------+--------------+----------+\n",
      "only showing top 15 rows\n",
      "\n"
     ]
    }
   ],
   "source": [
    "#Creating new column emplength_cleaned in df_sel\n",
    "\n",
    "df_sel = df_sel.withColumn(\"term_cleaned\", regexp_replace(col(\"term\"), \"months\", \"\")).withColumn(\"emplen_cleaned\", regexp_extract(col(\"emp_length\"), \"\\\\d+\", 0))\n",
    "\n",
    "df_sel.select(\"term_cleaned\",\"term\",\"emplen_cleaned\", \"emp_length\").show(15)"
   ]
  },
  {
   "cell_type": "code",
   "execution_count": 212,
   "metadata": {},
   "outputs": [
    {
     "name": "stdout",
     "output_type": "stream",
     "text": [
      "root\n",
      " |-- term: string (nullable = true)\n",
      " |-- home_ownership: string (nullable = true)\n",
      " |-- grade: string (nullable = true)\n",
      " |-- purpose: string (nullable = true)\n",
      " |-- int_rate: double (nullable = true)\n",
      " |-- addr_state: string (nullable = true)\n",
      " |-- loan_status: string (nullable = true)\n",
      " |-- application_type: string (nullable = true)\n",
      " |-- loan_amnt: double (nullable = true)\n",
      " |-- emp_length: string (nullable = true)\n",
      " |-- annual_inc: string (nullable = true)\n",
      " |-- dti: string (nullable = true)\n",
      " |-- delinq_2yrs: string (nullable = true)\n",
      " |-- revol_util: string (nullable = true)\n",
      " |-- total_acc: string (nullable = true)\n",
      " |-- dti_joint: string (nullable = true)\n",
      " |-- term_cleaned: string (nullable = true)\n",
      " |-- emplen_cleaned: string (nullable = true)\n",
      "\n"
     ]
    }
   ],
   "source": [
    "#The new columns are still string even after cleaning\n",
    "\n",
    "df_sel.printSchema()"
   ]
  },
  {
   "cell_type": "code",
   "execution_count": 213,
   "metadata": {},
   "outputs": [],
   "source": [
    "table_name = 'loanstats_sel'\n",
    "\n",
    "df_sel.createOrReplaceTempView(table_name)"
   ]
  },
  {
   "cell_type": "code",
   "execution_count": null,
   "metadata": {},
   "outputs": [],
   "source": [
    "df_sel.stat.cov('annual_inc', 'loan_amnt')       #Covariance\n",
    "df_sel.stat.corr('annual_inc', 'loan_amnt')      #Correlation"
   ]
  },
  {
   "cell_type": "code",
   "execution_count": 68,
   "metadata": {},
   "outputs": [
    {
     "name": "stdout",
     "output_type": "stream",
     "text": [
      "+--------------------+------+------+------+-----+-----+-----+----+\n",
      "|   loan_status_grade|     A|     B|     C|    D|    E|    F|   G|\n",
      "+--------------------+------+------+------+-----+-----+-----+----+\n",
      "|     In Grace Period|   365|  1240|  1887| 1405|  908|  354|  94|\n",
      "|          Fully Paid| 39679| 66546| 52678|30020|12928| 4726|1146|\n",
      "|Does not meet the...|     8|    85|   148|  197|  158|   93|  72|\n",
      "|             Default|    47|   198|   360|  312|  201|   79|  22|\n",
      "|            Oct-2015|     0|     1|     0|    0|    0|    0|   0|\n",
      "|  Late (31-120 days)|   492|  2004|  3339| 2890| 1852|  768| 246|\n",
      "|   Late (16-30 days)|   134|   410|   678|  569|  368|  155|  43|\n",
      "|             Current|103322|171734|171175|91984|47061|13589|2913|\n",
      "|Does not meet the...|    90|   269|   481|  494|  378|  154| 122|\n",
      "|              Issued|  1448|  2529|  2472| 1185|  593|  194|  39|\n",
      "|         Charged Off|  2617|  9519| 12642|10486| 6258| 2934| 792|\n",
      "+--------------------+------+------+------+-----+-----+-----+----+\n",
      "\n"
     ]
    }
   ],
   "source": [
    "df_sel.stat.crosstab('loan_status','grade').show()"
   ]
  },
  {
   "cell_type": "code",
   "execution_count": 70,
   "metadata": {},
   "outputs": [
    {
     "data": {
      "text/plain": [
       "[Row(purpose_freqItems=['debt_consolidation', 'credit_card'], grade_freqItems=['A', 'C', 'B'])]"
      ]
     },
     "execution_count": 70,
     "metadata": {},
     "output_type": "execute_result"
    }
   ],
   "source": [
    "#Collecting frequency items for purpose and grade for atleast 30% freq\n",
    "\n",
    "freq=df_sel.stat.freqItems(['purpose','grade'], 0.3)\n",
    "freq.collect()               #Action"
   ]
  },
  {
   "cell_type": "code",
   "execution_count": 73,
   "metadata": {},
   "outputs": [
    {
     "name": "stdout",
     "output_type": "stream",
     "text": [
      "+--------------------+-----+\n",
      "|             purpose|count|\n",
      "+--------------------+-----+\n",
      "| I have eliminate...|    1|\n",
      "| I am not comfort...|    1|\n",
      "| my cell is on a ...|    1|\n",
      "| MD\"\"... approx. ...|    1|\n",
      "| and have never h...|    1|\n",
      "|<br/><br/>Lending...|    1|\n",
      "| which was a swin...|    1|\n",
      "| usually doubling...|    1|\n",
      "| as long as we pa...|    1|\n",
      "| and have a solid...|    1|\n",
      "| but want to make...|    1|\n",
      "| the grass is in ...|    1|\n",
      "|        increasingly|    1|\n",
      "| this was a good ...|    1|\n",
      "| which is $250 a ...|    1|\n",
      "| I have the means...|    1|\n",
      "| I will receive t...|    1|\n",
      "| I will be able t...|    1|\n",
      "| but any help wou...|    1|\n",
      "| at which point I...|    1|\n",
      "+--------------------+-----+\n",
      "only showing top 20 rows\n",
      "\n"
     ]
    }
   ],
   "source": [
    "df_sel.groupby('purpose').count().show()"
   ]
  },
  {
   "cell_type": "code",
   "execution_count": 77,
   "metadata": {},
   "outputs": [
    {
     "name": "stdout",
     "output_type": "stream",
     "text": [
      "+--------------------+------+\n",
      "|             purpose| count|\n",
      "+--------------------+------+\n",
      "|  debt_consolidation|524129|\n",
      "|         credit_card|206137|\n",
      "|    home_improvement| 51812|\n",
      "|               other| 42867|\n",
      "|      major_purchase| 17261|\n",
      "|      small_business| 10347|\n",
      "|                 car|  8859|\n",
      "|             medical|  8533|\n",
      "|              moving|  5413|\n",
      "|            vacation|  4736|\n",
      "|               house|  3702|\n",
      "|             wedding|  2343|\n",
      "|    renewable_energy|   575|\n",
      "|         educational|   411|\n",
      "| and have never h...|     1|\n",
      "| as long as we pa...|     1|\n",
      "| usually doubling...|     1|\n",
      "| and have a solid...|     1|\n",
      "| which is $250 a ...|     1|\n",
      "| I have the means...|     1|\n",
      "+--------------------+------+\n",
      "only showing top 20 rows\n",
      "\n"
     ]
    }
   ],
   "source": [
    "df_sel.groupby('purpose').count().orderBy(col('count').desc()).show()"
   ]
  },
  {
   "cell_type": "code",
   "execution_count": 78,
   "metadata": {},
   "outputs": [],
   "source": [
    "from pyspark.sql.functions import count, max, min, avg, mean, stddev_pop"
   ]
  },
  {
   "cell_type": "code",
   "execution_count": 214,
   "metadata": {},
   "outputs": [
    {
     "name": "stdout",
     "output_type": "stream",
     "text": [
      "+----+--------------+-----+-------+--------+----------+-----------+----------------+---------+----------+----------+---+-----------+----------+---------+---------+------------+--------------+\n",
      "|term|home_ownership|grade|purpose|int_rate|addr_state|loan_status|application_type|loan_amnt|emp_length|annual_inc|dti|delinq_2yrs|revol_util|total_acc|dti_joint|term_cleaned|emplen_cleaned|\n",
      "+----+--------------+-----+-------+--------+----------+-----------+----------------+---------+----------+----------+---+-----------+----------+---------+---------+------------+--------------+\n",
      "|   0|             0|    0|      1|       0|         1|          0|              61|        0|         0|         4|  1|         30|       534|       50|   886704|           0|             0|\n",
      "+----+--------------+-----+-------+--------+----------+-----------+----------------+---------+----------+----------+---+-----------+----------+---------+---------+------------+--------------+\n",
      "\n"
     ]
    }
   ],
   "source": [
    "#Checking for no. of \"not-a-number\" and \"Null\" values in each column\n",
    "\n",
    "from pyspark.sql.functions import isnan, when, count, col\n",
    "\n",
    "df_sel.select([count(when(isnan(c) | col(c).isNull(), c)).alias(c) for c in df_sel.columns]).show()"
   ]
  },
  {
   "cell_type": "code",
   "execution_count": 215,
   "metadata": {},
   "outputs": [],
   "source": [
    "#Removing null values in selected columns\n",
    "\n",
    "df_sel=df_sel.na.drop(\"any\", subset=[\"purpose\", 'addr_state', 'annual_inc',\"dti\",\"application_type\", \"total_acc\"])"
   ]
  },
  {
   "cell_type": "code",
   "execution_count": 216,
   "metadata": {},
   "outputs": [
    {
     "data": {
      "text/plain": [
       "887280"
      ]
     },
     "execution_count": 216,
     "metadata": {},
     "output_type": "execute_result"
    }
   ],
   "source": [
    "df_sel.count()                 #99 rows got removed"
   ]
  },
  {
   "cell_type": "code",
   "execution_count": 217,
   "metadata": {},
   "outputs": [
    {
     "name": "stdout",
     "output_type": "stream",
     "text": [
      "+----+--------------+-----+-------+--------+----------+-----------+----------------+---------+----------+----------+---+-----------+----------+---------+---------+------------+--------------+\n",
      "|term|home_ownership|grade|purpose|int_rate|addr_state|loan_status|application_type|loan_amnt|emp_length|annual_inc|dti|delinq_2yrs|revol_util|total_acc|dti_joint|term_cleaned|emplen_cleaned|\n",
      "+----+--------------+-----+-------+--------+----------+-----------+----------------+---------+----------+----------+---+-----------+----------+---------+---------+------------+--------------+\n",
      "|   0|             0|    0|      0|       0|         0|          0|               0|        0|         0|         0|  0|          0|       493|        0|   886673|           0|             0|\n",
      "+----+--------------+-----+-------+--------+----------+-----------+----------------+---------+----------+----------+---+-----------+----------+---------+---------+------------+--------------+\n",
      "\n"
     ]
    }
   ],
   "source": [
    "df_sel.select([count(when(isnan(c) | col(c).isNull(), c)).alias(c) for c in df_sel.columns]).show()"
   ]
  },
  {
   "cell_type": "code",
   "execution_count": 218,
   "metadata": {},
   "outputs": [],
   "source": [
    "df_sel = df_sel.withColumn(\"delinq_2yrs\", regexp_extract(col(\"delinq_2yrs\"), \"\\\\d+\", 0)).withColumn(\"total_acc\", regexp_extract(col(\"total_acc\"), \"\\\\d+\", 0)).withColumn(\"dti\", regexp_extract(col(\"dti\"), \"\\\\d+\", 0)).withColumn(\"revol_util\", regexp_extract(col(\"revol_util\"), \"\\\\d+\", 0))"
   ]
  },
  {
   "cell_type": "code",
   "execution_count": 219,
   "metadata": {},
   "outputs": [
    {
     "name": "stdout",
     "output_type": "stream",
     "text": [
      "+-------+------------------+------------------+------------------+-----------------+\n",
      "|summary|       delinq_2yrs|         total_acc|               dti|       revol_util|\n",
      "+-------+------------------+------------------+------------------+-----------------+\n",
      "|  count|            887280|            887280|            887280|           886787|\n",
      "|   mean|0.3662911141017058|25.300491511536038|17.679867075330367|57.13639951734948|\n",
      "| stddev|10.037544702771623|14.140009249263008|20.070829613592487| 827.244518427995|\n",
      "|    min|                  |                  |                  |                 |\n",
      "|    max|               981|                99|              9999|             9989|\n",
      "+-------+------------------+------------------+------------------+-----------------+\n",
      "\n"
     ]
    }
   ],
   "source": [
    "df_sel.describe(\"delinq_2yrs\",\"total_acc\", \"dti\", \"revol_util\").show()"
   ]
  },
  {
   "cell_type": "code",
   "execution_count": 145,
   "metadata": {},
   "outputs": [
    {
     "name": "stdout",
     "output_type": "stream",
     "text": [
      "+----+--------------+-----+-------+--------+----------+-----------+----------------+---------+----------+----------+---+-----------+----------+---------+---------+------------+--------------+\n",
      "|term|home_ownership|grade|purpose|int_rate|addr_state|loan_status|application_type|loan_amnt|emp_length|annual_inc|dti|delinq_2yrs|revol_util|total_acc|dti_joint|term_cleaned|emplen_cleaned|\n",
      "+----+--------------+-----+-------+--------+----------+-----------+----------------+---------+----------+----------+---+-----------+----------+---------+---------+------------+--------------+\n",
      "|   0|             0|    0|      0|       0|         0|          0|               0|        0|         0|         0|  0|          0|       493|        0|   886673|           0|             0|\n",
      "+----+--------------+-----+-------+--------+----------+-----------+----------------+---------+----------+----------+---+-----------+----------+---------+---------+------------+--------------+\n",
      "\n"
     ]
    }
   ],
   "source": [
    "df_sel.select([count(when(isnan(c) | col(c).isNull(), c)).alias(c) for c in df_sel.columns]).show()"
   ]
  },
  {
   "cell_type": "code",
   "execution_count": 220,
   "metadata": {},
   "outputs": [],
   "source": [
    "#Function to return average value of a column to be replaced in place of null\n",
    "\n",
    "def fill_avg(df,colname):\n",
    "    return df.select(colname).agg(avg(colname))"
   ]
  },
  {
   "cell_type": "code",
   "execution_count": 221,
   "metadata": {},
   "outputs": [],
   "source": [
    "rev_avg = fill_avg(df_sel, \"revol_util\")"
   ]
  },
  {
   "cell_type": "code",
   "execution_count": 222,
   "metadata": {},
   "outputs": [],
   "source": [
    "from pyspark.sql.functions import lit\n",
    "\n",
    "rev_avg = fill_avg(df_sel, \"revol_util\").first()[0]\n",
    "df_sel = df_sel.withColumn(\"rev_avg\", lit(rev_avg))"
   ]
  },
  {
   "cell_type": "code",
   "execution_count": 223,
   "metadata": {},
   "outputs": [],
   "source": [
    "from pyspark.sql.functions import coalesce\n",
    "\n",
    "df_sel = df_sel.withColumn(\"revol_util_cleaned\",coalesce(col(\"revol_util\"),col(\"rev_avg\")))"
   ]
  },
  {
   "cell_type": "code",
   "execution_count": 157,
   "metadata": {},
   "outputs": [
    {
     "name": "stdout",
     "output_type": "stream",
     "text": [
      "+-------+-----------------+------------------+\n",
      "|summary|       revol_util|revol_util_cleaned|\n",
      "+-------+-----------------+------------------+\n",
      "|  count|           886787|            887280|\n",
      "|   mean|57.13639951734948| 57.13639951734943|\n",
      "| stddev| 827.244518427995| 827.0146606095446|\n",
      "|    min|                 |                  |\n",
      "|    max|             9989|              9989|\n",
      "+-------+-----------------+------------------+\n",
      "\n"
     ]
    }
   ],
   "source": [
    "df_sel.describe('revol_util', 'revol_util_cleaned').show()"
   ]
  },
  {
   "cell_type": "code",
   "execution_count": 224,
   "metadata": {},
   "outputs": [],
   "source": [
    "df_sel = df_sel.withColumn(\"revol_util_cleaned\",df_sel[\"revol_util_cleaned\"].cast(\"double\"))"
   ]
  },
  {
   "cell_type": "code",
   "execution_count": 162,
   "metadata": {},
   "outputs": [
    {
     "name": "stdout",
     "output_type": "stream",
     "text": [
      "+-------+-----------------+------------------+\n",
      "|summary|       revol_util|revol_util_cleaned|\n",
      "+-------+-----------------+------------------+\n",
      "|  count|           886787|            887263|\n",
      "|   mean|57.13639951734948| 57.13632372813923|\n",
      "| stddev| 827.244518427995| 827.0146606158012|\n",
      "|    min|                 |               0.0|\n",
      "|    max|             9989|          572366.0|\n",
      "+-------+-----------------+------------------+\n",
      "\n"
     ]
    }
   ],
   "source": [
    "df_sel.describe('revol_util', 'revol_util_cleaned').show()"
   ]
  },
  {
   "cell_type": "code",
   "execution_count": 225,
   "metadata": {},
   "outputs": [
    {
     "name": "stdout",
     "output_type": "stream",
     "text": [
      "+----+--------------+-----+-------+--------+----------+-----------+----------------+---------+----------+----------+---+-----------+----------+---------+---------+------------+--------------+-------+------------------+\n",
      "|term|home_ownership|grade|purpose|int_rate|addr_state|loan_status|application_type|loan_amnt|emp_length|annual_inc|dti|delinq_2yrs|revol_util|total_acc|dti_joint|term_cleaned|emplen_cleaned|rev_avg|revol_util_cleaned|\n",
      "+----+--------------+-----+-------+--------+----------+-----------+----------------+---------+----------+----------+---+-----------+----------+---------+---------+------------+--------------+-------+------------------+\n",
      "|   0|             0|    0|      0|       0|         0|          0|               0|        0|         0|         0|  0|          0|       493|        0|   886673|           0|             0|      0|                17|\n",
      "+----+--------------+-----+-------+--------+----------+-----------+----------------+---------+----------+----------+---+-----------+----------+---------+---------+------------+--------------+-------+------------------+\n",
      "\n"
     ]
    }
   ],
   "source": [
    "df_sel.select([count(when(isnan(c) | col(c).isNull(), c)).alias(c) for c in df_sel.columns]).show()"
   ]
  },
  {
   "cell_type": "code",
   "execution_count": 226,
   "metadata": {},
   "outputs": [],
   "source": [
    "df_sel=df_sel.na.drop(\"all\", subset=[\"revol_util_cleaned\"])"
   ]
  },
  {
   "cell_type": "code",
   "execution_count": 227,
   "metadata": {},
   "outputs": [
    {
     "name": "stdout",
     "output_type": "stream",
     "text": [
      "+----+--------------+-----+-------+--------+----------+-----------+----------------+---------+----------+----------+---+-----------+----------+---------+---------+------------+--------------+-------+------------------+\n",
      "|term|home_ownership|grade|purpose|int_rate|addr_state|loan_status|application_type|loan_amnt|emp_length|annual_inc|dti|delinq_2yrs|revol_util|total_acc|dti_joint|term_cleaned|emplen_cleaned|rev_avg|revol_util_cleaned|\n",
      "+----+--------------+-----+-------+--------+----------+-----------+----------------+---------+----------+----------+---+-----------+----------+---------+---------+------------+--------------+-------+------------------+\n",
      "|   0|             0|    0|      0|       0|         0|          0|               0|        0|         0|         0|  0|          0|       493|        0|   886673|           0|             0|      0|                 0|\n",
      "+----+--------------+-----+-------+--------+----------+-----------+----------------+---------+----------+----------+---+-----------+----------+---------+---------+------------+--------------+-------+------------------+\n",
      "\n"
     ]
    }
   ],
   "source": [
    "df_sel.select([count(when(isnan(c) | col(c).isNull(), c)).alias(c) for c in df_sel.columns]).show()"
   ]
  },
  {
   "cell_type": "code",
   "execution_count": 228,
   "metadata": {},
   "outputs": [
    {
     "name": "stdout",
     "output_type": "stream",
     "text": [
      "+--------------------+------+\n",
      "|         loan_status| count|\n",
      "+--------------------+------+\n",
      "|          Fully Paid|207663|\n",
      "|             Default|  1219|\n",
      "|     In Grace Period|  6253|\n",
      "|Does not meet the...|  1957|\n",
      "|         Charged Off| 45234|\n",
      "|  Late (31-120 days)| 11591|\n",
      "|              Issued|  8460|\n",
      "|             Current|601778|\n",
      "|Does not meet the...|   751|\n",
      "|   Late (16-30 days)|  2357|\n",
      "+--------------------+------+\n",
      "\n"
     ]
    }
   ],
   "source": [
    "df_sel.groupby(\"loan_status\").count().show()"
   ]
  },
  {
   "cell_type": "code",
   "execution_count": 170,
   "metadata": {},
   "outputs": [
    {
     "name": "stdout",
     "output_type": "stream",
     "text": [
      "+----------+--------------+-----+------------------+--------+----------+-----------+----------------+---------+----------+----------+---+-----------+----------+---------+---------+------------+--------------+-----------------+------------------+\n",
      "|      term|home_ownership|grade|           purpose|int_rate|addr_state|loan_status|application_type|loan_amnt|emp_length|annual_inc|dti|delinq_2yrs|revol_util|total_acc|dti_joint|term_cleaned|emplen_cleaned|          rev_avg|revol_util_cleaned|\n",
      "+----------+--------------+-----+------------------+--------+----------+-----------+----------------+---------+----------+----------+---+-----------+----------+---------+---------+------------+--------------+-----------------+------------------+\n",
      "| 60 months|          RENT|    C|               car|   15.27|        GA|Charged Off|      INDIVIDUAL|   2500.0|  < 1 year|   30000.0|  1|          0|         9|        4|     null|         60 |             1|57.13639951734948|               9.0|\n",
      "| 60 months|           OWN|    F|    small_business|   21.28|        CA|Charged Off|      INDIVIDUAL|   5600.0|   4 years|   40000.0|  5|          0|        32|       13|     null|         60 |             4|57.13639951734948|              32.0|\n",
      "| 60 months|          RENT|    B|             other|   12.69|        TX|Charged Off|      INDIVIDUAL|   5375.0|  < 1 year|   15000.0| 18|          0|        36|        3|     null|         60 |             1|57.13639951734948|              36.0|\n",
      "| 36 months|          RENT|    C|debt_consolidation|   13.49|        VA|Charged Off|      INDIVIDUAL|   9000.0|  < 1 year|   30000.0| 10|          0|        91|        9|     null|         36 |             1|57.13639951734948|              91.0|\n",
      "| 36 months|          RENT|    B|             other|   10.65|        CA|Charged Off|      INDIVIDUAL|  10000.0|   3 years|  100000.0|  7|          0|        55|       29|     null|         36 |             3|57.13639951734948|              55.0|\n",
      "+----------+--------------+-----+------------------+--------+----------+-----------+----------------+---------+----------+----------+---+-----------+----------+---------+---------+------------+--------------+-----------------+------------------+\n",
      "only showing top 5 rows\n",
      "\n"
     ]
    }
   ],
   "source": [
    "#where condition in loan_status\n",
    "\n",
    "df_sel.where(df_sel.loan_status.isin([\"In Grace Period\", \"Charged Off\", \"Late (31-120 days)\", \"Late (16-30 days)\"\n",
    "                                     , \"Does not meet the credit policy. Status:Charged Off\"\n",
    "                                     , \"Does not meet the credit policy. Status:Fully Paid\"])).show(5)"
   ]
  },
  {
   "cell_type": "code",
   "execution_count": 229,
   "metadata": {},
   "outputs": [],
   "source": [
    "# Creating a column \"bad_loan\" to reduce the variables\n",
    "\n",
    "df_sel = df_sel.withColumn(\"bad_loan\", when(df_sel.loan_status.isin([\"In Grace Period\", \"Charged Off\", \"Late (31-120 days)\", \"Late (16-30 days)\"\n",
    "                                     , \"Does not meet the credit policy. Status:Charged Off\"\n",
    "                                     , \"Does not meet the credit policy. Status:Fully Paid\"]), 'Yes').otherwise('No'))"
   ]
  },
  {
   "cell_type": "code",
   "execution_count": 230,
   "metadata": {},
   "outputs": [
    {
     "name": "stdout",
     "output_type": "stream",
     "text": [
      "+--------+------+\n",
      "|bad_loan| count|\n",
      "+--------+------+\n",
      "|      No|819120|\n",
      "|     Yes| 68143|\n",
      "+--------+------+\n",
      "\n"
     ]
    }
   ],
   "source": [
    "df_sel.groupby(\"bad_loan\").count().show()"
   ]
  },
  {
   "cell_type": "code",
   "execution_count": 179,
   "metadata": {},
   "outputs": [
    {
     "name": "stdout",
     "output_type": "stream",
     "text": [
      "+----------+--------------+-----+------------------+--------+----------+-----------+----------------+---------+----------+----------+---+-----------+----------+---------+---------+------------+--------------+-----------------+------------------+--------+\n",
      "|      term|home_ownership|grade|           purpose|int_rate|addr_state|loan_status|application_type|loan_amnt|emp_length|annual_inc|dti|delinq_2yrs|revol_util|total_acc|dti_joint|term_cleaned|emplen_cleaned|          rev_avg|revol_util_cleaned|bad_loan|\n",
      "+----------+--------------+-----+------------------+--------+----------+-----------+----------------+---------+----------+----------+---+-----------+----------+---------+---------+------------+--------------+-----------------+------------------+--------+\n",
      "| 60 months|          RENT|    C|               car|   15.27|        GA|Charged Off|      INDIVIDUAL|   2500.0|  < 1 year|   30000.0|  1|          0|         9|        4|     null|         60 |             1|57.13639951734948|               9.0|     Yes|\n",
      "| 60 months|           OWN|    F|    small_business|   21.28|        CA|Charged Off|      INDIVIDUAL|   5600.0|   4 years|   40000.0|  5|          0|        32|       13|     null|         60 |             4|57.13639951734948|              32.0|     Yes|\n",
      "| 60 months|          RENT|    B|             other|   12.69|        TX|Charged Off|      INDIVIDUAL|   5375.0|  < 1 year|   15000.0| 18|          0|        36|        3|     null|         60 |             1|57.13639951734948|              36.0|     Yes|\n",
      "| 36 months|          RENT|    C|debt_consolidation|   13.49|        VA|Charged Off|      INDIVIDUAL|   9000.0|  < 1 year|   30000.0| 10|          0|        91|        9|     null|         36 |             1|57.13639951734948|              91.0|     Yes|\n",
      "| 36 months|          RENT|    B|             other|   10.65|        CA|Charged Off|      INDIVIDUAL|  10000.0|   3 years|  100000.0|  7|          0|        55|       29|     null|         36 |             3|57.13639951734948|              55.0|     Yes|\n",
      "+----------+--------------+-----+------------------+--------+----------+-----------+----------------+---------+----------+----------+---+-----------+----------+---------+---------+------------+--------------+-----------------+------------------+--------+\n",
      "only showing top 5 rows\n",
      "\n"
     ]
    }
   ],
   "source": [
    "df_sel.filter(df_sel.bad_loan==\"Yes\").show(5)"
   ]
  },
  {
   "cell_type": "code",
   "execution_count": 231,
   "metadata": {},
   "outputs": [
    {
     "name": "stdout",
     "output_type": "stream",
     "text": [
      "root\n",
      " |-- term: string (nullable = true)\n",
      " |-- home_ownership: string (nullable = true)\n",
      " |-- grade: string (nullable = true)\n",
      " |-- purpose: string (nullable = true)\n",
      " |-- int_rate: double (nullable = true)\n",
      " |-- addr_state: string (nullable = true)\n",
      " |-- loan_status: string (nullable = true)\n",
      " |-- application_type: string (nullable = true)\n",
      " |-- loan_amnt: double (nullable = true)\n",
      " |-- emp_length: string (nullable = true)\n",
      " |-- annual_inc: string (nullable = true)\n",
      " |-- dti: string (nullable = true)\n",
      " |-- delinq_2yrs: string (nullable = true)\n",
      " |-- revol_util: string (nullable = true)\n",
      " |-- total_acc: string (nullable = true)\n",
      " |-- dti_joint: string (nullable = true)\n",
      " |-- term_cleaned: string (nullable = true)\n",
      " |-- emplen_cleaned: string (nullable = true)\n",
      " |-- rev_avg: double (nullable = false)\n",
      " |-- revol_util_cleaned: double (nullable = true)\n",
      " |-- bad_loan: string (nullable = false)\n",
      "\n"
     ]
    }
   ],
   "source": [
    "df_sel.printSchema()"
   ]
  },
  {
   "cell_type": "code",
   "execution_count": 238,
   "metadata": {},
   "outputs": [],
   "source": [
    "#Correcting the data types of the columns\n",
    "\n",
    "df_sel= df_sel.withColumn(\"annual_inc\", df_sel[\"annual_inc\"].cast(\"double\"))\n",
    "df_sel= df_sel.withColumn(\"dti\", df_sel[\"dti\"].cast(\"double\"))\n",
    "df_sel= df_sel.withColumn(\"delinq_2yrs\", df_sel[\"delinq_2yrs\"].cast(\"int\"))\n",
    "df_sel= df_sel.withColumn(\"total_acc\", df_sel[\"total_acc\"].cast(\"int\"))"
   ]
  },
  {
   "cell_type": "code",
   "execution_count": 239,
   "metadata": {},
   "outputs": [],
   "source": [
    "#Removing the uncleaned/unnecessary columns\n",
    "\n",
    "df_sel_final=df_sel.drop(\"revol_util\",\"dti_joint\")"
   ]
  },
  {
   "cell_type": "code",
   "execution_count": 240,
   "metadata": {},
   "outputs": [
    {
     "name": "stdout",
     "output_type": "stream",
     "text": [
      "root\n",
      " |-- term: string (nullable = true)\n",
      " |-- home_ownership: string (nullable = true)\n",
      " |-- grade: string (nullable = true)\n",
      " |-- purpose: string (nullable = true)\n",
      " |-- int_rate: double (nullable = true)\n",
      " |-- addr_state: string (nullable = true)\n",
      " |-- loan_status: string (nullable = true)\n",
      " |-- application_type: string (nullable = true)\n",
      " |-- loan_amnt: double (nullable = true)\n",
      " |-- emp_length: string (nullable = true)\n",
      " |-- annual_inc: double (nullable = true)\n",
      " |-- dti: double (nullable = true)\n",
      " |-- delinq_2yrs: integer (nullable = true)\n",
      " |-- total_acc: integer (nullable = true)\n",
      " |-- term_cleaned: string (nullable = true)\n",
      " |-- emplen_cleaned: string (nullable = true)\n",
      " |-- rev_avg: double (nullable = false)\n",
      " |-- revol_util_cleaned: double (nullable = true)\n",
      " |-- bad_loan: string (nullable = false)\n",
      "\n"
     ]
    }
   ],
   "source": [
    "df_sel_final.printSchema()"
   ]
  },
  {
   "cell_type": "code",
   "execution_count": 241,
   "metadata": {},
   "outputs": [
    {
     "name": "stdout",
     "output_type": "stream",
     "text": [
      "+----+--------------+-----+-------+--------+----------+-----------+----------------+---------+----------+----------+---+-----------+---------+------------+--------------+-------+------------------+--------+\n",
      "|term|home_ownership|grade|purpose|int_rate|addr_state|loan_status|application_type|loan_amnt|emp_length|annual_inc|dti|delinq_2yrs|total_acc|term_cleaned|emplen_cleaned|rev_avg|revol_util_cleaned|bad_loan|\n",
      "+----+--------------+-----+-------+--------+----------+-----------+----------------+---------+----------+----------+---+-----------+---------+------------+--------------+-------+------------------+--------+\n",
      "|   0|             0|    0|      0|       0|         0|          0|               0|        0|         0|         0|150|         46|       12|           0|             0|      0|                 0|       0|\n",
      "+----+--------------+-----+-------+--------+----------+-----------+----------------+---------+----------+----------+---+-----------+---------+------------+--------------+-------+------------------+--------+\n",
      "\n"
     ]
    }
   ],
   "source": [
    "df_sel_final.select([count(when(isnan(c) | col(c).isNull(), c)).alias(c) for c in df_sel_final.columns]).show()"
   ]
  },
  {
   "cell_type": "code",
   "execution_count": 246,
   "metadata": {},
   "outputs": [],
   "source": [
    "df_sel_final = df_sel_final.na.drop(\"any\", subset=[\"dti\",\"delinq_2yrs\", \"total_acc\"])"
   ]
  },
  {
   "cell_type": "code",
   "execution_count": 247,
   "metadata": {},
   "outputs": [
    {
     "name": "stdout",
     "output_type": "stream",
     "text": [
      "+----+--------------+-----+-------+--------+----------+-----------+----------------+---------+----------+----------+---+-----------+---------+------------+--------------+-------+------------------+--------+\n",
      "|term|home_ownership|grade|purpose|int_rate|addr_state|loan_status|application_type|loan_amnt|emp_length|annual_inc|dti|delinq_2yrs|total_acc|term_cleaned|emplen_cleaned|rev_avg|revol_util_cleaned|bad_loan|\n",
      "+----+--------------+-----+-------+--------+----------+-----------+----------------+---------+----------+----------+---+-----------+---------+------------+--------------+-------+------------------+--------+\n",
      "|   0|             0|    0|      0|       0|         0|          0|               0|        0|         0|         0|  0|          0|        0|           0|             0|      0|                 0|       0|\n",
      "+----+--------------+-----+-------+--------+----------+-----------+----------------+---------+----------+----------+---+-----------+---------+------------+--------------+-------+------------------+--------+\n",
      "\n"
     ]
    }
   ],
   "source": [
    "df_sel_final.select([count(when(isnan(c) | col(c).isNull(), c)).alias(c) for c in df_sel_final.columns]).show()"
   ]
  },
  {
   "cell_type": "code",
   "execution_count": 248,
   "metadata": {},
   "outputs": [
    {
     "name": "stdout",
     "output_type": "stream",
     "text": [
      "+--------------+------+------+------+------+-----+-----+----+\n",
      "|bad_loan_grade|     A|     B|     C|     D|    E|    F|   G|\n",
      "+--------------+------+------+------+------+-----+-----+----+\n",
      "|            No|144453|240938|226651|123480|60774|18584|4119|\n",
      "|           Yes|  3693| 13506| 19155| 16025| 9910| 4454|1365|\n",
      "+--------------+------+------+------+------+-----+-----+----+\n",
      "\n"
     ]
    }
   ],
   "source": [
    "df_sel_final.stat.crosstab(\"bad_loan\",\"grade\").show()"
   ]
  },
  {
   "cell_type": "code",
   "execution_count": 249,
   "metadata": {},
   "outputs": [
    {
     "name": "stdout",
     "output_type": "stream",
     "text": [
      "+-------+------------------+\n",
      "|summary|               dti|\n",
      "+-------+------------------+\n",
      "|  count|            887107|\n",
      "|   mean|17.678600213953896|\n",
      "| stddev|20.052839990973407|\n",
      "|    min|               0.0|\n",
      "|    max|            9999.0|\n",
      "+-------+------------------+\n",
      "\n"
     ]
    }
   ],
   "source": [
    "df_sel_final.describe('dti').show()"
   ]
  },
  {
   "cell_type": "code",
   "execution_count": 250,
   "metadata": {},
   "outputs": [
    {
     "data": {
      "text/plain": [
       "15"
      ]
     },
     "execution_count": 250,
     "metadata": {},
     "output_type": "execute_result"
    }
   ],
   "source": [
    "df_sel_final.filter(df_sel_final.dti>100).count()"
   ]
  },
  {
   "cell_type": "code",
   "execution_count": 251,
   "metadata": {},
   "outputs": [
    {
     "name": "stdout",
     "output_type": "stream",
     "text": [
      "+----------+--------------+-----+--------------------+--------+--------------------+-----------+----------------+---------+----------+----------+------+-----------+---------+------------+--------------+-----------------+------------------+--------+\n",
      "|      term|home_ownership|grade|             purpose|int_rate|          addr_state|loan_status|application_type|loan_amnt|emp_length|annual_inc|   dti|delinq_2yrs|total_acc|term_cleaned|emplen_cleaned|          rev_avg|revol_util_cleaned|bad_loan|\n",
      "+----------+--------------+-----+--------------------+--------+--------------------+-----------+----------------+---------+----------+----------+------+-----------+---------+------------+--------------+-----------------+------------------+--------+\n",
      "| 36 months|          RENT|    D| progressive mult...|   16.32| profit sharing &...|Charged Off|           88.11|   5000.0|   7 years|   40000.0| 460.0|       1300|        0|         36 |             7|57.13639951734948|               6.0|     Yes|\n",
      "| 36 months|      MORTGAGE|    B|   but unfortunately|   10.25| I will let this ...| Fully Paid|               f|  12000.0|   3 years|  116000.0|9500.0|       6000|     1000|         36 |             3|57.13639951734948|               5.0|      No|\n",
      "| 36 months|      MORTGAGE|    B| so will not affe...|   10.25|                 car| Fully Paid|             0.0|  11200.0|   2 years|  131000.0|2008.0|        183|        0|         36 |             2|57.13639951734948|              12.0|      No|\n",
      "| 36 months|      MORTGAGE|    C| I was canceling ...|   13.04| not paid for by ...| Fully Paid|          138.61|   4000.0|   3 years|   33000.0| 401.0|          0|       12|         36 |             3|57.13639951734948|               3.0|      No|\n",
      "| 36 months|          RENT|    C| and have not one...|   10.78| internet: $ 250 ...| Fully Paid|        Jan-2011|  11200.0|  < 1 year|   60000.0| 500.0|        200|        0|         36 |             1|57.13639951734948|            1989.0|      No|\n",
      "| 36 months|      MORTGAGE|    D|         credit_card|   17.86|                  TX|    Current|           JOINT|   6550.0|       n/a|    1770.0|1092.0|          2|       25|         36 |              |57.13639951734948|              84.0|      No|\n",
      "| 36 months|      MORTGAGE|    D|  debt_consolidation|   16.55|                  TX|    Current|           JOINT|  15000.0|       n/a|   20000.0| 137.0|          0|       28|         36 |              |57.13639951734948|              66.0|      No|\n",
      "| 60 months|          RENT|    E|  debt_consolidation|    18.2|                  NV|     Issued|           JOINT|  28000.0|   9 years|   17000.0| 136.0|          0|       17|         60 |             9|57.13639951734948|              32.0|      No|\n",
      "| 36 months|      MORTGAGE|    D|  debt_consolidation|   16.99|                  TX|    Current|           JOINT|  20000.0|       n/a|       0.0|9999.0|          0|       11|         36 |              |57.13639951734948|              88.0|      No|\n",
      "| 36 months|      MORTGAGE|    D|  debt_consolidation|   15.41|                  CA|    Current|           JOINT|  15000.0|       n/a|    8700.0| 120.0|          0|       26|         36 |              |57.13639951734948|              15.0|      No|\n",
      "| 36 months|      MORTGAGE|    C|         credit_card|   12.59|                  TX|    Current|           JOINT|   3700.0|       n/a|       0.0|9999.0|          2|       20|         36 |              |57.13639951734948|              56.0|      No|\n",
      "| 60 months|      MORTGAGE|    D|               other|   16.99|                  TX|    Current|           JOINT|  19000.0|    1 year|    5000.0| 380.0|          0|       62|         60 |             1|57.13639951734948|              33.0|      No|\n",
      "| 36 months|          RENT|    E|  debt_consolidation|   19.99|                  TX|    Current|           JOINT|  12000.0|       n/a|    1200.0| 672.0|          0|       13|         36 |              |57.13639951734948|              72.0|      No|\n",
      "| 60 months|      MORTGAGE|    D|  debt_consolidation|   17.86|                  ME|    Current|           JOINT|  12000.0|       n/a|    9745.0| 125.0|          0|       53|         60 |              |57.13639951734948|              51.0|      No|\n",
      "| 36 months|      MORTGAGE|    C|    home_improvement|   13.99|                  KY|    Current|           JOINT|   5000.0|   5 years|   12000.0| 104.0|          1|       42|         36 |             5|57.13639951734948|              48.0|      No|\n",
      "+----------+--------------+-----+--------------------+--------+--------------------+-----------+----------------+---------+----------+----------+------+-----------+---------+------------+--------------+-----------------+------------------+--------+\n",
      "\n"
     ]
    }
   ],
   "source": [
    "df_sel_final.filter(df_sel_final.dti>100).show()"
   ]
  },
  {
   "cell_type": "code",
   "execution_count": 253,
   "metadata": {},
   "outputs": [],
   "source": [
    "#Creating a permanent table for EDA\n",
    "\n",
    "permanent_table_name = 'lc_loan_data1'\n",
    "df_sel_final.write.format(\"parquet\").saveAsTable(permanent_table_name)"
   ]
  },
  {
   "cell_type": "code",
   "execution_count": 255,
   "metadata": {},
   "outputs": [
    {
     "name": "stdout",
     "output_type": "stream",
     "text": [
      "+----------+--------------+-----+------------------+--------+----------+------------------+----------------+---------+----------+----------+----+-----------+---------+------------+--------------+-----------------+------------------+--------+\n",
      "|      term|home_ownership|grade|           purpose|int_rate|addr_state|       loan_status|application_type|loan_amnt|emp_length|annual_inc| dti|delinq_2yrs|total_acc|term_cleaned|emplen_cleaned|          rev_avg|revol_util_cleaned|bad_loan|\n",
      "+----------+--------------+-----+------------------+--------+----------+------------------+----------------+---------+----------+----------+----+-----------+---------+------------+--------------+-----------------+------------------+--------+\n",
      "| 60 months|           OWN|    C|debt_consolidation|   12.39|        SC|           Current|      INDIVIDUAL|  11000.0|   3 years|   60000.0|16.0|          0|       37|         60 |             3|57.13639951734948|              24.0|      No|\n",
      "| 36 months|          RENT|    A|       credit_card|    6.99|        CA|           Current|      INDIVIDUAL|   8000.0|   7 years|   34000.0|26.0|          0|       38|         36 |             7|57.13639951734948|              51.0|      No|\n",
      "| 36 months|      MORTGAGE|    B|       credit_card|   10.49|        TX|           Current|      INDIVIDUAL|  14975.0|    1 year|  150000.0| 8.0|          0|       15|         36 |             1|57.13639951734948|              63.0|      No|\n",
      "| 36 months|      MORTGAGE|    A|debt_consolidation|    8.19|        TX|        Fully Paid|      INDIVIDUAL|  30000.0|   3 years|  140000.0|12.0|          0|       21|         36 |             3|57.13639951734948|              40.0|      No|\n",
      "| 60 months|      MORTGAGE|    A|       credit_card|    8.19|        MO|           Current|      INDIVIDUAL|  25000.0|   7 years|   66000.0|24.0|          0|       21|         60 |             7|57.13639951734948|              29.0|      No|\n",
      "| 60 months|      MORTGAGE|    C|       credit_card|   13.66|        OR|           Current|      INDIVIDUAL|  25000.0| 10+ years|   74435.0| 9.0|          0|       17|         60 |            10|57.13639951734948|              62.0|      No|\n",
      "| 36 months|          RENT|    D|          vacation|   15.59|        CA|           Current|      INDIVIDUAL|  15000.0| 10+ years|   67000.0|23.0|          2|       44|         36 |            10|57.13639951734948|              47.0|      No|\n",
      "| 60 months|          RENT|    E|debt_consolidation|   18.54|        VA|Late (31-120 days)|      INDIVIDUAL|  20000.0|   2 years|   80000.0|38.0|          0|       19|         60 |             2|57.13639951734948|              53.0|     Yes|\n",
      "| 36 months|      MORTGAGE|    B|debt_consolidation|    9.49|        IL|           Current|      INDIVIDUAL|  22000.0| 10+ years|   65000.0|10.0|          0|       50|         36 |            10|57.13639951734948|              80.0|      No|\n",
      "| 36 months|          RENT|    C|debt_consolidation|   14.99|        CA|           Current|      INDIVIDUAL|   8000.0|   7 years|   38000.0|15.0|          0|       23|         36 |             7|57.13639951734948|              76.0|      No|\n",
      "| 60 months|      MORTGAGE|    B|debt_consolidation|   10.49|        FL|           Current|      INDIVIDUAL|  10200.0|   2 years|   77500.0|21.0|          0|       48|         60 |             2|57.13639951734948|              38.0|      No|\n",
      "| 60 months|      MORTGAGE|    E|             other|   18.54|        CT|           Current|      INDIVIDUAL|  15000.0|   4 years|   45000.0| 4.0|          2|       21|         60 |             4|57.13639951734948|              37.0|      No|\n",
      "| 36 months|          RENT|    D|          vacation|   15.59|        PA|           Current|      INDIVIDUAL|   2800.0|   3 years|   25000.0|22.0|          0|        9|         36 |             3|57.13639951734948|              92.0|      No|\n",
      "| 36 months|          RENT|    B|       credit_card|   10.49|        CA|           Current|      INDIVIDUAL|  15000.0|   7 years|   58000.0|31.0|          0|       38|         36 |             7|57.13639951734948|              31.0|      No|\n",
      "| 36 months|          RENT|    A|    major_purchase|    8.19|        MA|           Current|      INDIVIDUAL|   6000.0|  < 1 year|   21000.0|18.0|          1|       13|         36 |             1|57.13639951734948|              15.0|      No|\n",
      "| 36 months|          RENT|    C|       credit_card|   14.31|        TN|           Current|      INDIVIDUAL|  10050.0|       n/a|   22000.0|13.0|          0|       11|         36 |              |57.13639951734948|              35.0|      No|\n",
      "| 36 months|      MORTGAGE|    E|debt_consolidation|   18.54|        IN|           Current|      INDIVIDUAL|  10275.0|       n/a|   24600.0|25.0|          0|       30|         36 |              |57.13639951734948|              38.0|      No|\n",
      "| 36 months|      MORTGAGE|    D|  home_improvement|   17.86|        LA|           Current|      INDIVIDUAL|   3000.0|   8 years|  100000.0| 9.0|          0|       10|         36 |             8|57.13639951734948|              35.0|      No|\n",
      "| 36 months|      MORTGAGE|    A|  home_improvement|    7.49|        FL|           Current|      INDIVIDUAL|   4000.0|       n/a|   51852.0| 4.0|          0|       33|         36 |              |57.13639951734948|              13.0|      No|\n",
      "| 36 months|      MORTGAGE|    B|       credit_card|    8.67|        CA|           Current|      INDIVIDUAL|   9000.0|   6 years|   75000.0|19.0|          0|       15|         36 |             6|57.13639951734948|              40.0|      No|\n",
      "+----------+--------------+-----+------------------+--------+----------+------------------+----------------+---------+----------+----------+----+-----------+---------+------------+--------------+-----------------+------------------+--------+\n",
      "only showing top 20 rows\n",
      "\n"
     ]
    }
   ],
   "source": [
    "tab = spark.sql(\"select * from lc_loan_data1\")\n",
    "tab.show()"
   ]
  },
  {
   "cell_type": "code",
   "execution_count": 256,
   "metadata": {},
   "outputs": [
    {
     "data": {
      "text/plain": [
       "DataFrame[term: string, home_ownership: string, grade: string, purpose: string, int_rate: double, addr_state: string, loan_status: string, application_type: string, loan_amnt: double, emp_length: string, annual_inc: double, dti: double, delinq_2yrs: int, total_acc: int, term_cleaned: string, emplen_cleaned: string, rev_avg: double, revol_util_cleaned: double, bad_loan: string]"
      ]
     },
     "metadata": {},
     "output_type": "display_data"
    }
   ],
   "source": [
    "#Creating Dataframe from table\n",
    "\n",
    "lc_df = spark.table(\"lc_loan_data1\")\n",
    "display(lc_df)"
   ]
  },
  {
   "cell_type": "code",
   "execution_count": null,
   "metadata": {},
   "outputs": [],
   "source": []
  }
 ],
 "metadata": {
  "kernelspec": {
   "display_name": "Python 3",
   "language": "python",
   "name": "python3"
  },
  "language_info": {
   "codemirror_mode": {
    "name": "ipython",
    "version": 3
   },
   "file_extension": ".py",
   "mimetype": "text/x-python",
   "name": "python",
   "nbconvert_exporter": "python",
   "pygments_lexer": "ipython3",
   "version": "3.7.4"
  }
 },
 "nbformat": 4,
 "nbformat_minor": 2
}
